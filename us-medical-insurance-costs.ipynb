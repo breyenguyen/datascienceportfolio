{
 "cells": [
  {
   "cell_type": "markdown",
   "metadata": {},
   "source": [
    "# U.S. Medical Insurance Costs"
   ]
  },
  {
   "cell_type": "code",
   "execution_count": 1,
   "metadata": {
    "scrolled": true
   },
   "outputs": [],
   "source": [
    "# breyenguyen #portfolio project #US Medical Insurance Costs\n",
    "# import csv library\n",
    "import csv"
   ]
  },
  {
   "cell_type": "code",
   "execution_count": 2,
   "metadata": {
    "scrolled": true
   },
   "outputs": [],
   "source": [
    "# import insurance.csv and assign it to the variable insurance_data_list\n",
    "insurance_data_list = []\n",
    "age = []\n",
    "bmi = []\n",
    "charges = []\n",
    "with open('insurance.csv', newline = '') as insurance_csv:\n",
    "    insurance_data = csv.DictReader(insurance_csv)\n",
    "    for row in insurance_data:\n",
    "        insurance_data_list.append(row)\n",
    "        age.append(row['age'])\n",
    "        bmi.append(row['bmi'])\n",
    "        charges.append(row['charges'])\n",
    "# print(insurance_data_list)"
   ]
  },
  {
   "cell_type": "markdown",
   "metadata": {},
   "source": [
    "__In this project, I plan to analyze the correlation between the__ `age`, `sex`, `bmi`, `smoker`, `region` __and the__ `charges`. __My ideas for analysis include:__\n",
    "1. The averages in 4 different regions: `northeast` `northwest` `southeast` `southwest`\n",
    "2. The difference in medical insurance cost between `smoker` and `non-smoker`\n",
    "3. The average insurance cost of different age groups: `youth_group`: 15–47 years old, `middle_age`: 48–63 years old, `elderly`: ≥ 64 years old \n",
    "4. The difference in medical insurance cost between people with different BMIs. BMI Scale: `underweight`: < 18.5, `ideal`: 18.5 - 24.9, `overweight`: 25 - 29.9, `obesity`: >= 30\n",
    "5. The average medical insurance cost of two different sexes: `male` and `female`\n",
    "6. The correlation between different elements: `age`, `sex`, `bmi`, `smoker`, `region`, `children`\n",
    "\n",
    "In order to conduct those analyses, I develop different functions to create different dictionaries with different keys. Also, I create functions to calculate the percentages, the averages, which can be used with all types of dictionaries. So, they're quite \"versatile.\" "
   ]
  },
  {
   "cell_type": "markdown",
   "metadata": {},
   "source": [
    "### Functions for calculations"
   ]
  },
  {
   "cell_type": "code",
   "execution_count": 3,
   "metadata": {},
   "outputs": [],
   "source": [
    "# Build a function to calculate the percentage of each group\n",
    "def cal_percentage(insurance_data, data_by_dict, group):\n",
    "    percentage = (len(data_by_dict[group])/len(insurance_data))*100\n",
    "    return round(percentage, 1)\n",
    "\n",
    "# Build a function to calculate the percenteage of smokers in different groups\n",
    "def cal_percentage_smoker(data_by_dict, group, key = 'smoker'):\n",
    "    count = 0\n",
    "    group_data = data_by_dict[group]\n",
    "    for data in group_data:\n",
    "        if data[key] == 'yes':\n",
    "            count += 1\n",
    "    percentage = (count/len(group_data))*100\n",
    "    return round(percentage, 1)\n",
    "\n",
    "# Build a function to calculate the average medical insurance cost for each group\n",
    "def cal_average(data_by_dict, group, key):\n",
    "    total = 0\n",
    "    group_data = data_by_dict[group]\n",
    "    for data in group_data:\n",
    "        total += float(data.get(key))\n",
    "    average = total/len(group_data)\n",
    "    return round(average, 2)\n",
    "\n",
    "# Build a function to calculate the NATION's average\n",
    "def cal_nation_avg(insurance_data, key):\n",
    "    total = 0\n",
    "    for data in insurance_data:\n",
    "        total += float(data[key])\n",
    "    average = total/len(insurance_data)\n",
    "    return round(average, 2)"
   ]
  },
  {
   "cell_type": "markdown",
   "metadata": {},
   "source": [
    "### Functions to create dictionaries"
   ]
  },
  {
   "cell_type": "code",
   "execution_count": 22,
   "metadata": {},
   "outputs": [],
   "source": [
    "# Build a function to create a dict with smoker/non-smoker as key\n",
    "def create_smoker_dict(insurance_data):\n",
    "    data_by_smoker = {\"smoker\":[], \"non-smoker\":[]}\n",
    "    for data in insurance_data:\n",
    "        if data.get('smoker') == 'yes':\n",
    "            data_by_smoker['smoker'].append(data)\n",
    "        elif data.get('smoker') == 'no':\n",
    "            data_by_smoker['non-smoker'].append(data)\n",
    "    return data_by_smoker\n",
    "\n",
    "# Build a function to create a dictionary with region as key\n",
    "def create_region_dict(insurance_data):\n",
    "    data_by_region = {\"northeast\":[], \"northwest\":[], \"southeast\":[], \"southwest\":[]}\n",
    "    for data in insurance_data:\n",
    "        for region in data_by_region:\n",
    "            if data.get('region') == region:\n",
    "                data_by_region[region].append(data)\n",
    "    return data_by_region\n",
    "\n",
    "# Build a function to create a dictionary with age groups as keys\n",
    "def create_age_dict(insurance_data):\n",
    "    data_by_age = {'youth group':[], 'middle aged':[], 'elderly':[]}\n",
    "    for data in insurance_data:\n",
    "        if float(data['age']) >= 64:\n",
    "            data_by_age['elderly'].append(data)\n",
    "        elif float(data['age']) >= 48:\n",
    "            data_by_age['middle aged'].append(data)\n",
    "        else:\n",
    "            data_by_age['youth group'].append(data)\n",
    "    return data_by_age\n",
    "\n",
    "# Build a function to create a dictionary with bmi as key\n",
    "def create_bmi_dict(insurance_data):\n",
    "    data_by_bmi = {'underweight':[], 'ideal':[], 'overweight':[], 'obesity':[]}\n",
    "    for data in insurance_data:\n",
    "        if float(data['bmi']) >= 30:\n",
    "            data_by_bmi['obesity'].append(data)\n",
    "        elif float(data['bmi']) >= 25:\n",
    "            data_by_bmi['overweight'].append(data)\n",
    "        elif float(data['bmi']) >= 18.5:\n",
    "            data_by_bmi['ideal'].append(data)\n",
    "        else:\n",
    "            data_by_bmi['underweight'].append(data)\n",
    "    return data_by_bmi\n",
    "\n",
    "# Build a function to create a dictionary with sex as key\n",
    "def create_sex_dict(insurance_data):\n",
    "    data_by_sex = {'male':[], 'female':[]}\n",
    "    for data in insurance_data:\n",
    "        for sex in data_by_sex:\n",
    "            if data['sex'] == sex:\n",
    "                data_by_sex[sex].append(data)\n",
    "    return data_by_sex"
   ]
  },
  {
   "cell_type": "markdown",
   "metadata": {},
   "source": [
    "### Analysis 1: Smoker vs. Non-smoker\n",
    "In this analysis, I'm gonna look at the difference in medical insurance cost between smokers and non-smokers. This is to see if smoking is one of the factors that contributes most strongly to low and/or high medical insurance charges.\n",
    "\n",
    "Also, I'd like to know if smoking affects people's weight in the U.S."
   ]
  },
  {
   "cell_type": "code",
   "execution_count": 23,
   "metadata": {},
   "outputs": [
    {
     "name": "stdout",
     "output_type": "stream",
     "text": [
      "The difference in medical insurance cost between people with different smoking habits:\n",
      "{'nation': 13270.42, 'smoker': 32050.23, 'non-smoker': 8434.27}\n",
      "The BMI of people with different smoking habits:\n",
      "{'nation': 30.66, 'smoker': 30.71, 'non-smoker': 30.65}\n"
     ]
    }
   ],
   "source": [
    "data_by_smoker = create_smoker_dict(insurance_data_list)\n",
    "#print(data_by_smoker)\n",
    "\n",
    "# Average medical insurance cost for smokers/non-smokers\n",
    "avg_cost_by_smoker = {'nation':cal_nation_avg(insurance_data_list, 'charges')}\n",
    "for smoker in data_by_smoker:\n",
    "    avg_cost_by_smoker[smoker] = cal_average(data_by_smoker, smoker, 'charges')\n",
    "\n",
    "print(\"The difference in medical insurance cost between people with different smoking habits:\\n{}\".format(avg_cost_by_smoker))\n",
    "\n",
    "# Average bmi of smokers/non-smokers\n",
    "avg_bmi_by_smoker = {'nation':cal_nation_avg(insurance_data_list, 'bmi')}\n",
    "for smoker in data_by_smoker:\n",
    "    avg_bmi_by_smoker[smoker] = cal_average(data_by_smoker, smoker, 'bmi')\n",
    "\n",
    "print(\"The BMI of people with different smoking habits:\\n{}\".format(avg_bmi_by_smoker))"
   ]
  },
  {
   "cell_type": "markdown",
   "metadata": {},
   "source": [
    "### Analysis 2: The Four Regions\n",
    "In this analysis, I'm gonna look at the number of patients from four regions in the U.S. to see if the dataset is diverse and representative of the population. Also, I check the correlation between region and different patient attributes."
   ]
  },
  {
   "cell_type": "code",
   "execution_count": 21,
   "metadata": {},
   "outputs": [
    {
     "name": "stdout",
     "output_type": "stream",
     "text": [
      "The percentage of patients in each region:\n",
      "{'northeast': 24.2, 'northwest': 24.3, 'southeast': 27.2, 'southwest': 24.3}\n",
      "The average insurance cost in different regions:\n",
      "{'nation': 13270.42, 'northeast': 13406.38, 'northwest': 12417.58, 'southeast': 14735.41, 'southwest': 12346.94}\n",
      "The average bmi in different regions:\n",
      "{'nation': 30.66, 'northeast': 29.17, 'northwest': 29.2, 'southeast': 33.36, 'southwest': 30.6}\n",
      "The average age in different regions:\n",
      "{'nation': 39.21, 'northeast': 39.27, 'northwest': 39.2, 'southeast': 38.94, 'southwest': 39.46}\n",
      "The percentage of smokers in each region:\n",
      "{'nation': 20.5, 'northeast': 20.7, 'northwest': 17.8, 'southeast': 25.0, 'southwest': 17.8}\n"
     ]
    }
   ],
   "source": [
    "data_by_region = create_region_dict(insurance_data_list)\n",
    "# print(data_by_region)\n",
    "\n",
    "# Percentage of subjects from different regions\n",
    "region_percentage = {}\n",
    "for region in data_by_region:\n",
    "    region_percentage[region] = cal_percentage(insurance_data_list, data_by_region, region)\n",
    "    \n",
    "print(\"The percentage of patients in each region:\\n{}\".format(region_percentage))\n",
    "\n",
    "# Average medical insurance cost by region\n",
    "avg_cost_by_region = {'nation':cal_nation_avg(insurance_data_list, 'charges')}\n",
    "for region in data_by_region:\n",
    "    avg_cost_by_region[region] = cal_average(data_by_region, region, 'charges')\n",
    "\n",
    "print(\"The average insurance cost in different regions:\\n{}\".format(avg_cost_by_region))\n",
    "\n",
    "# Average bmi by region\n",
    "avg_bmi_by_region = {'nation':cal_nation_avg(insurance_data_list, 'bmi')}\n",
    "for region in data_by_region:\n",
    "    avg_bmi_by_region[region] = cal_average(data_by_region, region, 'bmi')\\\n",
    "\n",
    "print(\"The average bmi in different regions:\\n{}\".format(avg_bmi_by_region))\n",
    "    \n",
    "# Average age by region\n",
    "avg_age_by_region = {'nation':cal_nation_avg(insurance_data_list, 'age')}\n",
    "for region in data_by_region:\n",
    "    avg_age_by_region[region] = cal_average(data_by_region, region, 'age')\n",
    "\n",
    "print(\"The average age in different regions:\\n{}\".format(avg_age_by_region))\n",
    "\n",
    "# Percentage of smokers by region\n",
    "smoker_percentage_region = {'nation':cal_percentage(insurance_data_list, data_by_smoker, 'smoker')}\n",
    "for region in data_by_region:\n",
    "    smoker_percentage_region[region] = cal_percentage_smoker(data_by_region, region)\n",
    "\n",
    "print(\"The percentage of smokers in each region:\\n{}\".format(smoker_percentage_region))"
   ]
  },
  {
   "cell_type": "markdown",
   "metadata": {},
   "source": [
    "### Analysis 3: Age Groups\n",
    "According to WHO, Ages can be classified in to groups including `youth_group`: 15–47 years old, `middle_age`: 48–63 years old, `elderly`: ≥ 64 years old.\n",
    "\n",
    "In this analysis, I'm gonna look at the correlation between ages and medical insurance costs. Also, we'd like to see if the dataset is representative of the population in terms of age. "
   ]
  },
  {
   "cell_type": "code",
   "execution_count": 24,
   "metadata": {},
   "outputs": [
    {
     "name": "stdout",
     "output_type": "stream",
     "text": [
      "The percentage of patients from each age group:\n",
      "{'youth group': 67.0, 'middle aged': 31.4, 'elderly': 1.6}\n",
      "The average insurance cost for each age group:\n",
      "{'nation': 13270.42, 'youth group': 11253.92, 'middle aged': 17048.22, 'elderly': 23275.53}\n",
      "The percentage of smokers in each age group:\n",
      "{'nation': 20.5, 'youth group': 22.0, 'middle aged': 16.7, 'elderly': 31.8}\n"
     ]
    }
   ],
   "source": [
    "data_by_age = create_age_dict(insurance_data_list)\n",
    "# print(data_by_age)\n",
    "\n",
    "# Percentage of age group in population\n",
    "age_group_percentage = {}\n",
    "for age in data_by_age:\n",
    "    age_group_percentage[age] = cal_percentage(insurance_data_list, data_by_age, age)\n",
    "\n",
    "print(\"The percentage of patients from each age group:\\n{}\".format(age_group_percentage))\n",
    "\n",
    "# Average medical insurance cost by age\n",
    "avg_cost_by_age = {'nation':cal_nation_avg(insurance_data_list, 'charges')}\n",
    "for age in data_by_age:\n",
    "    avg_cost_by_age[age] = cal_average(data_by_age, age, 'charges')\n",
    "\n",
    "print(\"The average insurance cost for each age group:\\n{}\".format(avg_cost_by_age))\n",
    "\n",
    "# Percentage of smokers by age\n",
    "smoker_percentage_age = {'nation':cal_percentage(insurance_data_list, data_by_smoker, 'smoker')}\n",
    "for age in data_by_age:\n",
    "    smoker_percentage_age[age] = cal_percentage_smoker(data_by_age, age)\n",
    "\n",
    "print(\"The percentage of smokers in each age group:\\n{}\".format(smoker_percentage_age))"
   ]
  },
  {
   "cell_type": "markdown",
   "metadata": {},
   "source": [
    "### Analysis 4: BMIs\n",
    "BMI Scale: `underweight`: < 18.5, `ideal`: 18.5 - 24.9, `overweight`: 25 - 29.9, `obesity`: >= 30\n",
    "\n",
    "Here I'd like to look at the correlation between BMI and insuran cost as well as BMI and age."
   ]
  },
  {
   "cell_type": "code",
   "execution_count": 28,
   "metadata": {
    "scrolled": false
   },
   "outputs": [
    {
     "name": "stdout",
     "output_type": "stream",
     "text": [
      "The average insurance cost for people with different BMIs:\n",
      "{'nation': 13270.42, 'underweight': 8852.2, 'ideal': 10409.34, 'overweight': 10987.51, 'obesity': 15552.34}\n",
      "The average age in different BMI groups:\n",
      "{'nation': 39.21, 'underweight': 32.35, 'ideal': 36.73, 'overweight': 38.92, 'obesity': 40.34}\n",
      "The percentage of smokers in each BMI group:\n",
      "{'nation': 20.5, 'underweight': 25.0, 'ideal': 22.2, 'overweight': 19.2, 'obesity': 20.5}\n"
     ]
    }
   ],
   "source": [
    "data_by_bmi = create_bmi_dict(insurance_data_list)\n",
    "# print(data_by_bmi)\n",
    "\n",
    "# Average medical insurance cost for people with diferrent bmis\n",
    "avg_cost_by_bmi = {'nation':cal_nation_avg(insurance_data_list, 'charges')}\n",
    "for bmi in data_by_bmi:\n",
    "    avg_cost_by_bmi[bmi] = cal_average(data_by_bmi, bmi, 'charges')\n",
    "\n",
    "print(\"The average insurance cost for people with different BMIs:\\n{}\".format(avg_cost_by_bmi))\n",
    "\n",
    "# Average age of people from different age groups\n",
    "avg_age_by_bmi = {'nation':cal_nation_avg(insurance_data_list, 'age')}\n",
    "for bmi in data_by_bmi:\n",
    "    avg_age_by_bmi[bmi] = cal_average(data_by_bmi, bmi, 'age')\n",
    "\n",
    "print(\"The average age in different BMI groups:\\n{}\".format(avg_age_by_bmi))\n",
    "\n",
    "# Percentage of smokers by bmi\n",
    "smoker_percentage_bmi = {'nation':cal_percentage(insurance_data_list, data_by_smoker, 'smoker')}\n",
    "for bmi in data_by_bmi:\n",
    "    smoker_percentage_bmi[bmi] = cal_percentage_smoker(data_by_bmi, bmi)\n",
    "\n",
    "print(\"The percentage of smokers in each BMI group:\\n{}\".format(smoker_percentage_bmi))"
   ]
  },
  {
   "cell_type": "markdown",
   "metadata": {},
   "source": [
    "### Analysis 5: Male vs. Female\n",
    "\n",
    "Here I'd like to see if the dataset is representative of the population in terms of sexes. Also, I check the correlation between sexes and other attributes"
   ]
  },
  {
   "cell_type": "code",
   "execution_count": 30,
   "metadata": {},
   "outputs": [
    {
     "name": "stdout",
     "output_type": "stream",
     "text": [
      "The percentage of male and female patients:\n",
      "{'male': 50.5, 'female': 49.5}\n",
      "The average insurance cost for male and female patients:\n",
      "{'nation': 13270.42, 'male': 13956.75, 'female': 12569.58}\n",
      "The average age of male and female patients:\n",
      "{'nation': 39.21, 'male': 38.92, 'female': 39.5}\n",
      "The average bmi of male and female patients:\n",
      "{'nation': 30.66, 'male': 30.94, 'female': 30.38}\n",
      "The percentage of smokers among male and female patients:\n",
      "{'nation': 20.5, 'male': 23.5, 'female': 17.4}\n"
     ]
    }
   ],
   "source": [
    "data_by_sex = create_sex_dict(insurance_data_list)\n",
    "# print(data_by_sex['male'])\n",
    "sex_group_percentage = {}\n",
    "for sex in data_by_sex:\n",
    "    sex_group_percentage[sex] = cal_percentage(insurance_data_list, data_by_sex, sex)\n",
    "\n",
    "print(\"The percentage of male and female patients:\\n{}\".format(sex_group_percentage))\n",
    "\n",
    "# Percentage of males and females:\n",
    "\n",
    "# Average medical insurance cost for males/females\n",
    "avg_cost_by_sex = {'nation':cal_nation_avg(insurance_data_list, 'charges')}\n",
    "for sex in data_by_sex:\n",
    "    avg_cost_by_sex[sex] = cal_average(data_by_sex, sex, 'charges')\n",
    "\n",
    "print(\"The average insurance cost for male and female patients:\\n{}\".format(avg_cost_by_sex))\n",
    "\n",
    "# Average age by sex\n",
    "avg_age_by_sex = {'nation':cal_nation_avg(insurance_data_list, 'age')}\n",
    "for sex in data_by_sex:\n",
    "    avg_age_by_sex[sex] = cal_average(data_by_sex, sex, 'age')\n",
    "\n",
    "print(\"The average age of male and female patients:\\n{}\".format(avg_age_by_sex))\n",
    "\n",
    "# Average bmi by sex\n",
    "avg_bmi_by_sex = {'nation':cal_nation_avg(insurance_data_list, 'bmi')}\n",
    "for sex in data_by_sex:\n",
    "    avg_bmi_by_sex[sex] = cal_average(data_by_sex, sex, 'bmi')\n",
    "\n",
    "print(\"The average bmi of male and female patients:\\n{}\".format(avg_bmi_by_sex))\n",
    "\n",
    "# Percentage of smokers by sex\n",
    "smoker_percentage_sex = {'nation':cal_percentage(insurance_data_list, data_by_smoker, 'smoker')}\n",
    "for sex in data_by_sex:\n",
    "    smoker_percentage_sex[sex] = cal_percentage_smoker(data_by_sex, sex)\n",
    "\n",
    "print(\"The percentage of smokers among male and female patients:\\n{}\".format(smoker_percentage_sex))"
   ]
  }
 ],
 "metadata": {
  "kernelspec": {
   "display_name": "Python 3",
   "language": "python",
   "name": "python3"
  },
  "language_info": {
   "codemirror_mode": {
    "name": "ipython",
    "version": 3
   },
   "file_extension": ".py",
   "mimetype": "text/x-python",
   "name": "python",
   "nbconvert_exporter": "python",
   "pygments_lexer": "ipython3",
   "version": "3.8.8"
  }
 },
 "nbformat": 4,
 "nbformat_minor": 4
}
